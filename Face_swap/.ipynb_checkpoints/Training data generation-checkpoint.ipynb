{
 "cells": [
  {
   "cell_type": "markdown",
   "metadata": {},
   "source": [
    "This script aims to generate a clean training data. We load the image and look for the different faces via dlib (face recognition)\n",
    "\n",
    "We can get as many images for our training data and put it in the deepfakes/data folder . Here we have taken a few for our training. This code will extract each face of these pictures."
   ]
  },
  {
   "cell_type": "markdown",
   "metadata": {},
   "source": [
    "We first load the various dependencies"
   ]
  },
  {
   "cell_type": "code",
   "execution_count": 18,
   "metadata": {
    "scrolled": true
   },
   "outputs": [],
   "source": [
    "import cv2\n",
    "from pathlib import Path\n",
    "from lib_1.PluginLoader import PluginLoader\n",
    "from lib_1.faces_detect import detect_faces"
   ]
  },
  {
   "cell_type": "markdown",
   "metadata": {},
   "source": [
    "Then we load the two parameters (input/output folder)"
   ]
  },
  {
   "cell_type": "code",
   "execution_count": 19,
   "metadata": {},
   "outputs": [],
   "source": [
    "input_directory=\"/home/somya51p/Desktop/swap-face/daniel_craig/*\"\n",
    "output_directory=\"/home/somya51p/Desktop/swap-face/daniel_craig_test\""
   ]
  },
  {
   "cell_type": "markdown",
   "metadata": {},
   "source": [
    "We define a method to extract the faces in one images"
   ]
  },
  {
   "cell_type": "code",
   "execution_count": 20,
   "metadata": {},
   "outputs": [],
   "source": [
    "def load_filter():\n",
    "    filter_file = \"filter.jpg\" # TODO Pass as argument\n",
    "    if Path(filter_file).exists():\n",
    "        print('Loading reference image for filtering')\n",
    "        return FaceFilter(filter_file)\n",
    "\n",
    "def get_faces(image):\n",
    "    faces_count = 0\n",
    "    filterDeepFake = load_filter()\n",
    "    \n",
    "    for face in detect_faces(image):\n",
    "        \n",
    "        if filterDeepFake is not None and not filterDeepFake.check(face):\n",
    "            print('Skipping not recognized face!')\n",
    "            continue\n",
    "        \n",
    "\n",
    "        yield faces_count, face\n"
   ]
  },
  {
   "cell_type": "markdown",
   "metadata": {},
   "source": [
    "We list the image in the input directory and we extract the faces in each of them"
   ]
  },
  {
   "cell_type": "code",
   "execution_count": 21,
   "metadata": {},
   "outputs": [
    {
     "name": "stdout",
     "output_type": "stream",
     "text": [
      "Loading Extract from Extract_Align plugin...\n",
      "-----\n",
      "-----\n",
      "-----\n",
      "-----\n",
      "-----\n",
      "-----\n",
      "-----\n",
      "-----\n",
      "-----\n"
     ]
    }
   ],
   "source": [
    "import glob\n",
    "included_extentions = ['jpg', 'bmp', 'png', 'gif']\n",
    "image_list = [fn for fn in glob.glob(input_directory) if any(fn.endswith(ext) for ext in included_extentions)]\n",
    "\n",
    "extractor_name = \"Align\" # TODO Pass as argument\n",
    "extractor = PluginLoader.get_extractor(extractor_name)()\n",
    "\n",
    "try:\n",
    "    for filename in image_list:\n",
    "        \n",
    "        image = cv2.imread(filename)\n",
    "        for idx, face in get_faces(image):\n",
    "            resized_image = extractor.extract(image, face, 256)\n",
    "            output_file = output_directory+\"/\"+str(Path(filename).stem)\n",
    "            cv2.imwrite(str(output_file) + str(idx) + Path(filename).suffix, resized_image)\n",
    "\n",
    "except Exception as e:\n",
    "    print('Failed to extract from image: {}. Reason: {}'.format(filename, e))"
   ]
  },
  {
   "cell_type": "code",
   "execution_count": null,
   "metadata": {},
   "outputs": [],
   "source": []
  }
 ],
 "metadata": {
  "kernelspec": {
   "display_name": "Python 3 (ipykernel)",
   "language": "python",
   "name": "python3"
  },
  "language_info": {
   "codemirror_mode": {
    "name": "ipython",
    "version": 3
   },
   "file_extension": ".py",
   "mimetype": "text/x-python",
   "name": "python",
   "nbconvert_exporter": "python",
   "pygments_lexer": "ipython3",
   "version": "3.8.10"
  }
 },
 "nbformat": 4,
 "nbformat_minor": 2
}
